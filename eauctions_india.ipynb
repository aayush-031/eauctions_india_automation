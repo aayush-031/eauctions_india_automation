{
 "cells": [
  {
   "cell_type": "code",
   "execution_count": 1,
   "id": "7c61c8a1",
   "metadata": {},
   "outputs": [],
   "source": [
    "import pandas as pd\n",
    "from selenium import webdriver\n",
    "from bs4 import BeautifulSoup\n",
    "from tqdm import tqdm\n",
    "from pprint import pprint\n",
    "import pickle"
   ]
  },
  {
   "cell_type": "code",
   "execution_count": 2,
   "id": "5dabb464",
   "metadata": {},
   "outputs": [],
   "source": [
    "def scrapweb(url,driver):\n",
    "    driver.get(url)\n",
    "#     driver.implicitly_wait(5)\n",
    "    soup = BeautifulSoup(driver.page_source,'lxml')\n",
    "    listprop = driver.find_elements_by_class_name('strip_list')\n",
    "    obj_dict={}\n",
    "    dfs=pd.DataFrame()\n",
    "    for obj in tqdm(listprop):\n",
    "#         title=obj.find_elements_by_class_name('strip_list wow fadeIn animated')\n",
    "        reserve_price=obj.find_element_by_class_name('rating').text.replace('Reserve Price: ','')\n",
    "        reserve_price=reserve_price.replace(',','')\n",
    "        auction_id =obj.find_element_by_tag_name('small').text.replace('AUCTION ID:','')\n",
    "        title=obj.find_element_by_tag_name('h5').text\n",
    "        desc=obj.find_element_by_tag_name('p').text\n",
    "        date =obj.find_element_by_class_name('btn_listing').text.replace('Auction Date: ','')\n",
    "        li=obj.find_element_by_tag_name(\"ul\").find_elements_by_tag_name(\"li\")\n",
    "        li.pop(0)\n",
    "        for l in li:\n",
    "            url=l.find_element_by_tag_name(\"a\").get_attribute(\"href\")\n",
    "            obj_dict[auction_id] = {\n",
    "                \"Title\" : title, \n",
    "                 \"url\":url,\n",
    "                \"Description\": desc,\n",
    "                 \"Date\":date,\n",
    "                \"Auction_id\":auction_id,\n",
    "                \"Reserve_Price\":reserve_price \n",
    "                }\n",
    "        df=pd.DataFrame(obj_dict).T\n",
    "    dfs=dfs.append(df)\n",
    "    return dfs"
   ]
  },
  {
   "cell_type": "code",
   "execution_count": null,
   "id": "9255c909",
   "metadata": {},
   "outputs": [
    {
     "name": "stderr",
     "output_type": "stream",
     "text": [
      "  0%|          | 0/20 [00:00<?, ?it/s]\n",
      "  0%|          | 0/15 [00:00<?, ?it/s]\u001b[A\n",
      "  7%|▋         | 1/15 [00:00<00:03,  3.87it/s]\u001b[A\n",
      " 20%|██        | 3/15 [00:00<00:01,  7.56it/s]\u001b[A\n",
      " 27%|██▋       | 4/15 [00:00<00:01,  8.04it/s]\u001b[A\n",
      " 40%|████      | 6/15 [00:00<00:00,  9.54it/s]\u001b[A\n",
      " 53%|█████▎    | 8/15 [00:00<00:00, 10.49it/s]\u001b[A\n",
      " 67%|██████▋   | 10/15 [00:01<00:00, 11.14it/s]\u001b[A\n",
      " 80%|████████  | 12/15 [00:01<00:00, 11.42it/s]\u001b[A\n",
      "100%|██████████| 15/15 [00:01<00:00, 10.22it/s]\u001b[A\n",
      "  5%|▌         | 1/20 [00:04<01:20,  4.26s/it]\n",
      "  0%|          | 0/8 [00:00<?, ?it/s]\u001b[A\n",
      " 12%|█▎        | 1/8 [00:00<00:00,  9.08it/s]\u001b[A\n",
      " 25%|██▌       | 2/8 [00:00<00:00,  9.57it/s]\u001b[A\n",
      " 50%|█████     | 4/8 [00:00<00:00, 10.65it/s]\u001b[A\n",
      " 75%|███████▌  | 6/8 [00:00<00:00, 10.56it/s]\u001b[A\n",
      "100%|██████████| 8/8 [00:00<00:00, 10.75it/s]\u001b[A\n",
      " 10%|█         | 2/20 [00:05<00:49,  2.76s/it]\n",
      "  0%|          | 0/2 [00:00<?, ?it/s]\u001b[A\n",
      " 50%|█████     | 1/2 [00:00<00:00,  9.16it/s]\u001b[A\n",
      "100%|██████████| 2/2 [00:00<00:00,  9.05it/s]\u001b[A\n",
      " 15%|█▌        | 3/20 [00:07<00:34,  2.02s/it]\n",
      "  0%|          | 0/18 [00:00<?, ?it/s]\u001b[A\n",
      "  6%|▌         | 1/18 [00:00<00:01,  8.68it/s]\u001b[A\n",
      " 11%|█         | 2/18 [00:00<00:01,  9.36it/s]\u001b[A\n",
      " 22%|██▏       | 4/18 [00:00<00:01, 10.52it/s]\u001b[A\n",
      " 33%|███▎      | 6/18 [00:00<00:01, 10.62it/s]\u001b[A\n",
      " 44%|████▍     | 8/18 [00:00<00:00, 10.08it/s]\u001b[A\n",
      " 56%|█████▌    | 10/18 [00:00<00:00, 10.42it/s]\u001b[A\n",
      " 67%|██████▋   | 12/18 [00:01<00:00, 10.97it/s]\u001b[A\n",
      " 78%|███████▊  | 14/18 [00:01<00:00, 11.33it/s]\u001b[A\n",
      " 89%|████████▉ | 16/18 [00:01<00:00, 11.53it/s]\u001b[A\n",
      "100%|██████████| 18/18 [00:01<00:00, 11.00it/s]\u001b[A\n",
      " 20%|██        | 4/20 [00:09<00:36,  2.28s/it]\n",
      "  0%|          | 0/20 [00:00<?, ?it/s]\u001b[A\n",
      "  5%|▌         | 1/20 [00:00<00:02,  8.51it/s]\u001b[A\n",
      " 10%|█         | 2/20 [00:00<00:02,  8.34it/s]\u001b[A\n",
      " 15%|█▌        | 3/20 [00:00<00:01,  9.02it/s]\u001b[A\n",
      " 25%|██▌       | 5/20 [00:00<00:01, 10.13it/s]\u001b[A\n",
      " 30%|███       | 6/20 [00:00<00:01,  9.89it/s]\u001b[A\n",
      " 40%|████      | 8/20 [00:00<00:01, 10.82it/s]\u001b[A\n",
      " 50%|█████     | 10/20 [00:00<00:00, 11.24it/s]\u001b[A\n",
      " 60%|██████    | 12/20 [00:01<00:00, 11.46it/s]\u001b[A\n",
      " 70%|███████   | 14/20 [00:01<00:00, 11.66it/s]\u001b[A\n",
      " 80%|████████  | 16/20 [00:01<00:00, 11.86it/s]\u001b[A\n",
      " 90%|█████████ | 18/20 [00:01<00:00, 11.96it/s]\u001b[A\n",
      "100%|██████████| 20/20 [00:01<00:00, 11.18it/s]\u001b[A\n",
      " 25%|██▌       | 5/20 [00:12<00:37,  2.52s/it]\n",
      "  0%|          | 0/18 [00:00<?, ?it/s]\u001b[A\n",
      "  6%|▌         | 1/18 [00:00<00:02,  7.75it/s]\u001b[A"
     ]
    }
   ],
   "source": [
    "df1 = pd.DataFrame()\n",
    "driver = webdriver.Safari()\n",
    "driver.get('https://www.eauctionsindia.com/')\n",
    "# driver.implicitly_wait(5)\n",
    "soup = BeautifulSoup(driver.page_source,'lxml')\n",
    "listobjlinks = driver.find_element_by_id(\"tab_city\").find_elements_by_tag_name(\"a\")\n",
    "urls_tab1 =[_.get_attribute(\"href\") for _ in listobjlinks]\n",
    "driver.close()\n",
    "driver = webdriver.Safari()\n",
    "for obj in tqdm(urls_tab1):\n",
    "    df1=df1.append(scrapweb(obj,driver))\n",
    "# print(df1.head())\n",
    "driver.close()"
   ]
  },
  {
   "cell_type": "code",
   "execution_count": null,
   "id": "18136d8b",
   "metadata": {},
   "outputs": [],
   "source": [
    "df1.head()"
   ]
  },
  {
   "cell_type": "code",
   "execution_count": null,
   "id": "57e52fea",
   "metadata": {},
   "outputs": [],
   "source": [
    "new = df1['Date'].str.split(\" \", n = 1, expand = True)\n",
    "df1['Date']=new[0]\n",
    "df1['Time']=new[1]\n",
    "print(df1)"
   ]
  },
  {
   "cell_type": "code",
   "execution_count": null,
   "id": "faf84931",
   "metadata": {},
   "outputs": [],
   "source": [
    "df1.shape"
   ]
  },
  {
   "cell_type": "code",
   "execution_count": null,
   "id": "3e936f2d",
   "metadata": {},
   "outputs": [],
   "source": [
    "df2 = pd.DataFrame()\n",
    "driver = webdriver.Safari()\n",
    "driver.get('https://www.eauctionsindia.com/')\n",
    "# driver.implicitly_wait(5)\n",
    "soup = BeautifulSoup(driver.page_source,'lxml')\n",
    "listobjlinks = driver.find_element_by_id(\"tab_bank\").find_elements_by_tag_name(\"a\")\n",
    "urls_tab1 =[_.get_attribute(\"href\") for _ in listobjlinks]\n",
    "for obj in tqdm(urls_tab1):\n",
    "    df2=df2.append(scrapweb(obj,driver))\n",
    "# print(df2.head())\n",
    "driver.close()"
   ]
  },
  {
   "cell_type": "code",
   "execution_count": null,
   "id": "3a78a455",
   "metadata": {},
   "outputs": [],
   "source": [
    "new = df2['Date'].str.split(\" \", n = 1, expand = True)\n",
    "df2['Date']=new[0]\n",
    "df2['Time']=new[1]\n"
   ]
  },
  {
   "cell_type": "code",
   "execution_count": null,
   "id": "a2329c36",
   "metadata": {
    "scrolled": true
   },
   "outputs": [],
   "source": [
    "df2"
   ]
  }
 ],
 "metadata": {
  "kernelspec": {
   "display_name": "Python 3",
   "language": "python",
   "name": "python3"
  },
  "language_info": {
   "codemirror_mode": {
    "name": "ipython",
    "version": 3
   },
   "file_extension": ".py",
   "mimetype": "text/x-python",
   "name": "python",
   "nbconvert_exporter": "python",
   "pygments_lexer": "ipython3",
   "version": "3.8.8"
  }
 },
 "nbformat": 4,
 "nbformat_minor": 5
}
